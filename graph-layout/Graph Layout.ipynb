{
 "metadata": {
  "name": ""
 },
 "nbformat": 3,
 "nbformat_minor": 0,
 "worksheets": [
  {
   "cells": [
    {
     "cell_type": "code",
     "collapsed": false,
     "input": [
      "from IPython.core import display"
     ],
     "language": "python",
     "metadata": {},
     "outputs": [],
     "prompt_number": 25
    },
    {
     "cell_type": "code",
     "collapsed": false,
     "input": [
      "css = \"\"\"\n",
      "<style type=\"text/css\"><![CDATA[\n",
      ".edge {\n",
      "    stroke-width: 2px; \n",
      "    stroke: black;\n",
      "}\n",
      "\n",
      ".node {\n",
      "    fill: white;\n",
      "    stroke-width: 2px; \n",
      "    stroke: black;\n",
      "}\n",
      "]]></style>\n",
      "\"\"\"\n",
      "class SVG(object):\n",
      "    \"\"\" etc etc \"\"\"\n",
      "    def __init__(self, width, height):\n",
      "        self.width = width\n",
      "        self.height = height\n",
      "        self.edges = []\n",
      "        self.vertices = []\n",
      "    \n",
      "    def add_vertex(self, (x,y)):\n",
      "        vertex = '<circle cx=\"{cx}\" cy=\"{cy}\" r=\"{r}\" class=\"node\"/>'\n",
      "        vertex = vertex.format(cx=x, cy=y, r=5)\n",
      "        self.vertices.append(vertex)\n",
      "    \n",
      "    def add_edge(self, (x1,y1), (x2,y2)):\n",
      "        edge = '<line x1=\"{x1}\" y1=\"{y1}\" x2=\"{x2}\" y2=\"{y2}\" class=\"edge\"/>'\n",
      "        edge = edge.format(x1=x1, y1=y1, x2=x2, y2=y2)\n",
      "        self.edges.append(edge)\n",
      "    \n",
      "    def write(filename):\n",
      "        pass\n",
      "\n",
      "    def __repr__(self):\n",
      "        return \"SVG(width=%d, height=%d)\" % (self.width, self.height)\n",
      "    \n",
      "    def as_string(self):\n",
      "        # We need to draw the edges before the vertices so \n",
      "        # that the circles are on top\n",
      "        start = \"<svg width='{width}px' height='{height}px'>\".format(width=self.width, height=self.height)\n",
      "        edges = ''.join(self.edges)\n",
      "        vertices = ''.join(self.vertices)\n",
      "        end = \"</svg>\"\n",
      "        return start + css + edges + vertices + end\n",
      "    def display(self):\n",
      "        return display.SVG(self.as_string())"
     ],
     "language": "python",
     "metadata": {},
     "outputs": [],
     "prompt_number": 92
    },
    {
     "cell_type": "code",
     "collapsed": false,
     "input": [
      "def draw(graph, filename, width=None, height=None, directed=False):\n",
      "    layout = _create_layout(graph, width, height)\n",
      "    _draw_svg(layout, graph, filename, directed)"
     ],
     "language": "python",
     "metadata": {},
     "outputs": [],
     "prompt_number": 2
    },
    {
     "cell_type": "code",
     "collapsed": false,
     "input": [
      "def _draw_svg(layout, graph, filename, directed):\n",
      "    svg = SVG(width, height, directed)\n",
      "    for vertex in graph[\"vertices\"]:\n",
      "        svg.add_vertex(layout[vertex])\n",
      "    for v_from, v_to in graph[\"edges\"]:\n",
      "        svg.add_edge(layout[v_from], layout[v_to])\n",
      "    svg.write(filename)"
     ],
     "language": "python",
     "metadata": {},
     "outputs": [],
     "prompt_number": 3
    },
    {
     "cell_type": "code",
     "collapsed": false,
     "input": [
      "from random import randint\n",
      "def _create_random_layout(vertices, width, height):\n",
      "    return {\n",
      "        vertex: (randint(0, width), randint(0, height)) \n",
      "        for vertex in vertices\n",
      "    }"
     ],
     "language": "python",
     "metadata": {},
     "outputs": [],
     "prompt_number": 15
    },
    {
     "cell_type": "code",
     "collapsed": false,
     "input": [
      "def _create_layout(graph, width=None, height=None):\n",
      "    vertices = graph[\"vertices\"]\n",
      "    edges = graph[\"edges\"]\n",
      "    if width is None:\n",
      "        width = 400\n",
      "    if height is None:\n",
      "        height = 400\n",
      "    start_layout = _create_random_layout(vertices, width, height)\n",
      "    return start_layout"
     ],
     "language": "python",
     "metadata": {},
     "outputs": [],
     "prompt_number": 16
    },
    {
     "cell_type": "code",
     "collapsed": false,
     "input": [
      "graph = {\n",
      "   \"vertices\": [1,2,3],\n",
      "   \"edges\": [[1,2], [3,2]]\n",
      "}"
     ],
     "language": "python",
     "metadata": {},
     "outputs": [],
     "prompt_number": 17
    },
    {
     "cell_type": "code",
     "collapsed": false,
     "input": [
      "_create_layout(graph)"
     ],
     "language": "python",
     "metadata": {},
     "outputs": [
      {
       "metadata": {},
       "output_type": "pyout",
       "prompt_number": 24,
       "text": [
        "{1: (262, 95), 2: (281, 215), 3: (50, 251)}"
       ]
      }
     ],
     "prompt_number": 24
    },
    {
     "cell_type": "code",
     "collapsed": false,
     "input": [
      "svg = SVG(width=100, height=100)\n",
      "svg.add_vertex((40, 40))\n",
      "svg.add_vertex((40, 60))\n",
      "svg.add_edge((40, 60), (40, 40))\n",
      "svg.display()"
     ],
     "language": "python",
     "metadata": {},
     "outputs": [
      {
       "metadata": {},
       "output_type": "pyout",
       "prompt_number": 93,
       "svg": [
        "<svg height=\"100px\" width=\"100px\">\n",
        "<style type=\"text/css\"><![CDATA[\n",
        ".edge {\n",
        "    stroke-width: 2px; \n",
        "    stroke: black;\n",
        "}\n",
        "\n",
        ".node {\n",
        "    fill: white;\n",
        "    stroke-width: 2px; \n",
        "    stroke: black;\n",
        "}\n",
        "]]></style>\n",
        "<line class=\"edge\" x1=\"40\" x2=\"40\" y1=\"60\" y2=\"40\"/><circle class=\"node\" cx=\"40\" cy=\"40\" r=\"5\"/><circle class=\"node\" cx=\"40\" cy=\"60\" r=\"5\"/></svg>"
       ],
       "text": [
        "<IPython.core.display.SVG at 0x3204150>"
       ]
      }
     ],
     "prompt_number": 93
    },
    {
     "cell_type": "code",
     "collapsed": false,
     "input": [
      "SVG(width=100, height=100).display()"
     ],
     "language": "python",
     "metadata": {},
     "outputs": [
      {
       "metadata": {},
       "output_type": "pyout",
       "prompt_number": 52,
       "svg": [
        "<svg height=\"100px\" width=\"100px\"/>"
       ],
       "text": [
        "<IPython.core.display.SVG at 0x31fe050>"
       ]
      }
     ],
     "prompt_number": 52
    },
    {
     "cell_type": "code",
     "collapsed": false,
     "input": [
      "display.SVG(\"<svg width='400' height='400'></svg>\")"
     ],
     "language": "python",
     "metadata": {},
     "outputs": [
      {
       "metadata": {},
       "output_type": "pyout",
       "prompt_number": 44,
       "svg": [
        "<svg height=\"400\" width=\"400\"/>"
       ],
       "text": [
        "<IPython.core.display.SVG at 0x31f5710>"
       ]
      }
     ],
     "prompt_number": 44
    }
   ],
   "metadata": {}
  }
 ]
}